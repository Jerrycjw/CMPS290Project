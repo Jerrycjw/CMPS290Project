{
 "cells": [
  {
   "cell_type": "markdown",
   "metadata": {},
   "source": [
    "# Player Injury Relation Learning\n",
    "## Introduction\n",
    "In this ddlite app, we'll build a relation tagger from scratch. The generalized extraction and learning utilities provided by ddlite will allow us to turn a sampling of NBA news and some basic domain knowledge into an automated tagging system. We have almost comprehensive dictionaries of NBA player's name and injury parts, but applying a simple matching rule might yield a lot of false positives. Our goal is to use distant supervision to improve precision.\n"
   ]
  },
  {
   "cell_type": "code",
   "execution_count": 1,
   "metadata": {
    "collapsed": false
   },
   "outputs": [],
   "source": [
    "%load_ext autoreload\n",
    "%autoreload 2\n",
    "\n",
    "import cPickle, os, sys\n",
    "sys.path.insert(1, os.path.join(sys.path[0], '..'))\n",
    "\n",
    "from ddlite import *\n",
    "\n",
    "%matplotlib inline\n",
    "matplotlib.rcParams['figure.figsize'] = (18,6)"
   ]
  },
  {
   "cell_type": "markdown",
   "metadata": {},
   "source": [
    "## Load relations from file"
   ]
  },
  {
   "cell_type": "code",
   "execution_count": 2,
   "metadata": {
    "collapsed": false
   },
   "outputs": [],
   "source": [
    "R = Relations('data/temp/relation_saved_send_v4.pkl')"
   ]
  },
  {
   "cell_type": "code",
   "execution_count": 3,
   "metadata": {
    "collapsed": false
   },
   "outputs": [
    {
     "data": {
      "text/plain": [
       "516"
      ]
     },
     "execution_count": 3,
     "metadata": {},
     "output_type": "execute_result"
    }
   ],
   "source": [
    "R.num_candidates()"
   ]
  },
  {
   "cell_type": "markdown",
   "metadata": {},
   "source": [
    "Load dictionary for status(keyword) of injury"
   ]
  },
  {
   "cell_type": "code",
   "execution_count": 4,
   "metadata": {
    "collapsed": false
   },
   "outputs": [],
   "source": [
    "\n",
    "get_injury_state = [line.rstrip() for line in open('data/dictionary/state_dic_1.tsv')]\n",
    "is_recover_state = [line.rstrip() for line in open('data/dictionary/state_dic_recover.tsv')]\n",
    "is_aggrevated_state = [line.rstrip() for line in open('data/dictionary/state_dic_aggregate.tsv')]\n",
    "is_return_state = [line.rstrip() for line in open('data/dictionary/state_dic_return.tsv')]\n"
   ]
  },
  {
   "cell_type": "markdown",
   "metadata": {},
   "source": [
    "## Feature Extraction\n",
    "Now we'll use ddlib via ddlite's DDLiteModel class to extract features for each relation. This can take a little while, so if the script has already been run, we'll reload it."
   ]
  },
  {
   "cell_type": "code",
   "execution_count": 5,
   "metadata": {
    "collapsed": false
   },
   "outputs": [
    {
     "name": "stdout",
     "output_type": "stream",
     "text": [
      "Extracted 10171 features for each of 516 mentions\n"
     ]
    }
   ],
   "source": [
    "feats = None\n",
    "\n",
    "pkl_f = 'data/temp/feats_v2.pkl'\n",
    "try:\n",
    "    with open(pkl_f, 'rb') as f:\n",
    "        feats = cPickle.load(f)\n",
    "except:\n",
    "    %time R.extract_features()\n",
    "    with open(pkl_f, 'w+') as f:\n",
    "        cPickle.dump(R.feats, f)\n",
    "\n",
    "DDL = DDLiteModel(R, feats)\n",
    "\n",
    "print \"Extracted {} features for each of {} mentions\".format(DDL.num_feats(), DDL.num_candidates())"
   ]
  },
  {
   "cell_type": "markdown",
   "metadata": {},
   "source": [
    "## Label ground truth candidates using MindTagger\n",
    "In order to evaluate our labeling functions and learning results, we'll create a small set of ground truth labels for some candidates using Mindtagger. This will highlight each candidate in the sentence in which it appears. We set the response to yes if it is a mention of gene, and no otherwise. Here I sample 80 candiates from whole set."
   ]
  },
  {
   "cell_type": "code",
   "execution_count": 66,
   "metadata": {
    "collapsed": false,
    "scrolled": true
   },
   "outputs": [
    {
     "name": "stdout",
     "output_type": "stream",
     "text": [
      "Making sure MindTagger is installed. Hang on!\n"
     ]
    },
    {
     "data": {
      "text/html": [
       "\n",
       "        <iframe\n",
       "            width=\"100%\"\n",
       "            height=\"1600\"\n",
       "            src=\"http://Jiaweis-MacBook-Pro.local:8197/#/mindtagger/957eb3aaf8d81768\"\n",
       "            frameborder=\"0\"\n",
       "            allowfullscreen\n",
       "        ></iframe>\n",
       "        "
      ],
      "text/plain": [
       "<IPython.lib.display.IFrame at 0x10b09f950>"
      ]
     },
     "execution_count": 66,
     "metadata": {},
     "output_type": "execute_result"
    }
   ],
   "source": [
    "DDL.open_mindtagger(num_sample=80, width='100%', height=1600)"
   ]
  },
  {
   "cell_type": "code",
   "execution_count": 88,
   "metadata": {
    "collapsed": false,
    "scrolled": true
   },
   "outputs": [],
   "source": [
    "# Here we add these tags to ground truth set\n",
    "DDL.add_mindtagger_tags()"
   ]
  },
  {
   "cell_type": "markdown",
   "metadata": {},
   "source": [
    "In order to avoid tagging multiple times, if tagging has been done once, the script will load the existing tags array to ground truth."
   ]
  },
  {
   "cell_type": "code",
   "execution_count": 135,
   "metadata": {
    "collapsed": false
   },
   "outputs": [
    {
     "name": "stdout",
     "output_type": "stream",
     "text": [
      "[414 350 409 108 259 138 240 293  82  61 372 104 439  93 126 436 488  31\n",
      "  48  95 115 226 496 421 325]\n",
      "85\n"
     ]
    }
   ],
   "source": [
    "groud_truth_path = 'data/temp/ground_truth_7.pkl'\n",
    "try:\n",
    "    with open(groud_truth_path, 'rb') as f:\n",
    "        gt = cPickle.load(f)\n",
    "        DDL.update_gt(gt[1],gt[0])\n",
    "except:\n",
    "    with open(groud_truth_path, 'w+') as f:\n",
    "        cPickle.dump(DDL.get_labeled_ground_truth(), f)\n",
    "\n",
    "## Here I set the validation set fraction of ground truth set to 30%        \n",
    "DDL.gt.set_holdout(validation_frac=0.3)\n",
    "print DDL.gt.validation\n",
    "print len(DDL.gt.get_labeled_ground_truth()[1])\n",
    "\n"
   ]
  },
  {
   "cell_type": "markdown",
   "metadata": {},
   "source": [
    "## Writing labeling functions\n",
    "We'll use data programming to learn a logistic regression model which will predict the probability of a candidate entity being a true player-injury relation. Since our training data is not manually labeled, we'll generate many (potentially noisy) labels as a surrogate for precise, manual labels. Feature extraction and model learning are very simple in ddlite. Writing labeling functions is where the real artistry comes in. One of ddlite's goals is to enable rapid prototyping, debugging, and experimenting with labeling functions. These can be used either to create a simple standalone app, or to plug into DeepDive. Labeling functions, or LFs, are functions that take an Candidate object. They must return 1 (for a positive label), 0 (for abstaining), or -1 (for a negative example). But in order to give different weight to labeing functions to identify their importance, it may return different values."
   ]
  },
  {
   "cell_type": "code",
   "execution_count": 136,
   "metadata": {
    "collapsed": false
   },
   "outputs": [],
   "source": [
    "## helper function for labeling\n",
    "def get_idxs_by_label(r,label): return r.e1_idxs if r.e1_label == label else r.e2_idxs\n",
    "get_idxs_by_label(R[1],'Injury Part')\n",
    "injury_dict=[line.rstrip() for line in open('data/dictionary/injury_dic.tsv')]\n",
    "def has_injury_keyword(r): \n",
    "    for x in injury_dict:\n",
    "        if (x in r.get_attr_seq('lemmas',range(max(r.e1_idxs)+1,min(r.e2_idxs)))):\n",
    "            return True\n",
    "    return False\n",
    "def has_person_tag(r):\n",
    "    return ('PERSON' in r.get_attr_seq('ners',range(max(r.e1_idxs)+1,min(r.e2_idxs))))\n",
    "        "
   ]
  },
  {
   "cell_type": "code",
   "execution_count": 144,
   "metadata": {
    "collapsed": false
   },
   "outputs": [],
   "source": [
    "## For learning \n",
    "verb_tags = ['VB','VBD','VBN','VBP','VBZ','VBG']\n",
    "noun_tags = ['NN','NNS','NNPS','NNP']\n",
    "\n",
    "\n",
    "def general_too_faraway(r): return -1 if (r.e1_idxs[-1] - r.e2_idxs[0])>12 else 0\n",
    "def general_pre_limit(r): return 2 if ('right' or 'left') in r.get_attr_seq('lemmas',range(min(r.e2_idxs)-4,min(r.e2_idxs))) else 0\n",
    "def general_not_noun(r):\n",
    "    for i in r.get_attr_seq('poses', get_idxs_by_label(r,'Injury Part')):\n",
    "        if i not in noun_tags: return -100\n",
    "    return 1\n",
    "def another_name_between(r): return -1 if (has_person_tag(r)) else 1\n",
    "def has_injury_between(r): return 1 if (has_injury_keyword(r) and not has_person_tag(r)) else -1\n",
    "def remove_head_coach(r): return -100 if (('coach' in r.post_window2('lemmas',1)+r.pre_window2('lemmas',1)) or ('coach' in r.post_window1('lemmas',1)+r.pre_window1('lemmas',1))) else 0\n",
    "general_LFs = [general_pre_limit,general_too_faraway,general_not_noun,remove_head_coach,another_name_between]\n",
    "key_word = get_injury_state+is_recover_state+is_aggrevated_state+is_return_state\n",
    "    \n",
    "\n",
    "def has_key_word(r): \n",
    "    for x in key_word:\n",
    "        if x in r.lemmas:\n",
    "            return 2\n",
    "    return 0\n"
   ]
  },
  {
   "cell_type": "markdown",
   "metadata": {},
   "source": [
    "After writing the LFs, we simply collect them and apply them to mentions. If we define more LFs later, we can apply them incrementally or overwrite all the LFs so far."
   ]
  },
  {
   "cell_type": "code",
   "execution_count": 146,
   "metadata": {
    "collapsed": false
   },
   "outputs": [],
   "source": [
    "#LFs = [get_injury,is_recover,is_aggrevate,is_return] + general_LFs\n",
    "LFs = general_LFs+[has_key_word]\n",
    "DDL.apply_lfs(LFs, clear=True)"
   ]
  },
  {
   "cell_type": "markdown",
   "metadata": {},
   "source": [
    "## Labeling functions performance\n",
    "We'll use ddlite's LF assessment utilities to debug and analyze our LFs before running inference. First, we'll generate summary plots which show the following:\n",
    "Do the LFs cover the data well or do we have many candidates for which all of the LFs abstained?\n",
    "Is there overlap between the LFs? Do many return positive or negative labels for the same candidate?\n",
    "Do the LFs conflict with each other? Do candidates tend to have many of one type of label, or a mix?"
   ]
  },
  {
   "cell_type": "code",
   "execution_count": 148,
   "metadata": {
    "collapsed": false
   },
   "outputs": [
    {
     "name": "stdout",
     "output_type": "stream",
     "text": [
      "LF stats on training set\n",
      "Coverage:\t100.000%\n",
      "Overlap:\t84.690%\n",
      "Conflict:\t20.349%\n"
     ]
    }
   ],
   "source": [
    "DDL.print_lf_stats()"
   ]
  },
  {
   "cell_type": "code",
   "execution_count": 149,
   "metadata": {
    "collapsed": false
   },
   "outputs": [
    {
     "data": {
      "image/png": "[encoded data removed]",
      "text/plain": [
       "<matplotlib.figure.Figure at 0x10ac4b5d0>"
      ]
     },
     "metadata": {},
     "output_type": "display_data"
    }
   ],
   "source": [
    "DDL.plot_lf_stats()"
   ]
  },
  {
   "cell_type": "code",
   "execution_count": 150,
   "metadata": {
    "collapsed": false,
    "scrolled": false
   },
   "outputs": [
    {
     "name": "stdout",
     "output_type": "stream",
     "text": [
      "Begin training for mu = 0.001\n",
      "\tLearning epoch = 0\tGradient mag. = 1.215377\n",
      "\tLearning epoch = 100\tGradient mag. = 1.179391\n",
      "\tLearning epoch = 200\tGradient mag. = 1.144136\n",
      "\tLearning epoch = 300\tGradient mag. = 1.131433\n",
      "\tLearning epoch = 400\tGradient mag. = 1.126811\n",
      "Final gradient magnitude for mu=0.001: 1.125\n",
      "Begin training for mu = 0.01\n",
      "\tLearning epoch = 0\tGradient mag. = 1.215377\n",
      "\tLearning epoch = 100\tGradient mag. = 1.179642\n",
      "\tLearning epoch = 200\tGradient mag. = 1.144683\n",
      "\tLearning epoch = 300\tGradient mag. = 1.132110\n",
      "\tLearning epoch = 400\tGradient mag. = 1.127538\n",
      "Final gradient magnitude for mu=0.010: 1.126\n",
      "Begin training for mu = 0.1\n",
      "\tLearning epoch = 0\tGradient mag. = 1.215377\n",
      "\tLearning epoch = 100\tGradient mag. = 1.189721\n",
      "\tLearning epoch = 200\tGradient mag. = 1.159158\n",
      "\tLearning epoch = 300\tGradient mag. = 1.148268\n",
      "\tLearning epoch = 400\tGradient mag. = 1.144322\n",
      "Final gradient magnitude for mu=0.100: 1.143\n",
      "Begin training for mu = 0.2\n",
      "\tLearning epoch = 0\tGradient mag. = 1.215377\n",
      "\tLearning epoch = 100\tGradient mag. = 1.200140\n",
      "\tLearning epoch = 200\tGradient mag. = 1.173837\n",
      "\tLearning epoch = 300\tGradient mag. = 1.164550\n",
      "\tLearning epoch = 400\tGradient mag. = 1.161195\n",
      "Final gradient magnitude for mu=0.200: 1.160\n",
      "Begin training for mu = 0.5\n",
      "\tLearning epoch = 0\tGradient mag. = 1.215377\n",
      "\tLearning epoch = 100\tGradient mag. = 1.226304\n",
      "\tLearning epoch = 200\tGradient mag. = 1.208560\n",
      "\tLearning epoch = 300\tGradient mag. = 1.202249\n",
      "\tLearning epoch = 400\tGradient mag. = 1.199961\n",
      "Final gradient magnitude for mu=0.500: 1.199\n"
     ]
    },
    {
     "data": {
      "image/png": "[encoded data removed]",
      "text/plain": [
       "<matplotlib.figure.Figure at 0x10afc4510>"
      ]
     },
     "metadata": {},
     "output_type": "display_data"
    },
    {
     "name": "stdout",
     "output_type": "stream",
     "text": [
      "CPU times: user 2.73 s, sys: 58.8 ms, total: 2.79 s\n",
      "Wall time: 2.89 s\n"
     ]
    },
    {
     "data": {
      "text/html": [
       "<table><tr><td><b>ID</b></td><td><b># LFs</b></td><td><b>Test set size</b></td><td><b>Use LFs</b></td><td><b>Model</b></td><td><b>Precision</b></td><td><b>Recall</b></td><td><b>F1</b></td></tr><tr><td>7</td><td>6</td><td>60</td><td>True</td><td>Joint</td><td>0.860</td><td>0.925</td><td>0.892</td></tr></table><table><tr><td><b>LF</b></td></tr><tr><td>general_pre_limit</td></tr><tr><td>general_too_faraway</td></tr><tr><td>general_not_noun</td></tr><tr><td>remove_head_coach</td></tr><tr><td>another_name_between</td></tr><tr><td>has_key_word</td></tr></table>"
      ],
      "text/plain": [
       "<ddlite.ModelLog instance at 0x10ac5ca70>"
      ]
     },
     "execution_count": 150,
     "metadata": {},
     "output_type": "execute_result"
    }
   ],
   "source": [
    "matplotlib.rcParams['figure.figsize'] = (12,4)\n",
    "mu_seq = np.ravel([0.5, 0.2, 0.1, 0.01, 0.001])\n",
    "DDL.set_use_lfs(True)\n",
    "%time DDL.learn_weights(sample=False, n_iter=500, alpha=0.5, mu=mu_seq,\\\n",
    "                        bias=True, verbose=True, log=True)"
   ]
  },
  {
   "cell_type": "code",
   "execution_count": 151,
   "metadata": {
    "collapsed": false
   },
   "outputs": [
    {
     "name": "stdout",
     "output_type": "stream",
     "text": [
      "100% accuracy and 0 generalization score are \"perfect\"\n"
     ]
    },
    {
     "data": {
      "text/html": [
       "<table style=\"margin-right: 1%;float: left\"><tr><td><b>Labeling function</b></td><td><b>Positive accuracy</b></td><td><b>Gen. score</b></td></tr><tr><td>another_name_between</td><td>75.47% (n=53)</td><td>0.16 (n=22)</td></tr><tr><td>general_not_noun</td><td>81.25% (n=48)</td><td>0.16 (n=20)</td></tr></table><table style=\"float: left\"><tr><td><b>Labeling function</b></td><td><b>Negative accuracy</b></td><td><b>Gen. score</b></td></tr><tr><td>general_too_faraway</td><td>50.00% (n=6)</td><td>0.17 (n=3)</td></tr><tr><td>another_name_between</td><td>83.33% (n=6)</td><td>0.08 (n=4)</td></tr></table>"
      ],
      "text/plain": [
       "<ddlite.SideTables instance at 0x10ac42710>"
      ]
     },
     "execution_count": 151,
     "metadata": {},
     "output_type": "execute_result"
    }
   ],
   "source": [
    "DDL.lowest_empirical_accuracy_lfs(n=10)"
   ]
  },
  {
   "cell_type": "code",
   "execution_count": 152,
   "metadata": {
    "collapsed": false,
    "scrolled": true
   },
   "outputs": [
    {
     "data": {
      "text/html": [
       "<table><tr><td><b>Labeling<br />function</b></td><td><b>Label<br />type</b></td><td><b>Candidate<br />coverage</b></td><td><b>Candidate<br />conflict</b></td><td><b>Positive<br />accuracy</b></td><td><b>Positive<br />gen. score</b></td><td><b>Negative<br />accuracy</b></td><td><b>Negative<br />gen. score</b></td></tr><tr><td><b><font color=\"#c700ff\">another_name_between</font></b></td><td>Both</td><td>100.00%</td><td>20.35%</td><td>75.47% (n=53)</td><td>0.16 (n=22)</td><td>83.33% (n=6)</td><td>0.08 (n=4)</td></tr><tr><td><b><font color=\"#ee0b40\">general_too_faraway</font></b></td><td>Negative</td><td>6.59%</td><td>6.59%</td><td>N/A</td><td>N/A</td><td>50.00% (n=6)</td><td>0.17 (n=3)</td></tr><tr><td><b><font color=\"#ee0b40\">general_pre_limit</font></b></td><td>Negative</td><td>15.12%</td><td>0.00%</td><td>N/A</td><td>N/A</td><td>-100.00% (n=0)</td><td>1.00 (n=0)</td></tr><tr><td><b><font color=\"#ee0b40\">has_key_word</font></b></td><td>Negative</td><td>77.13%</td><td>0.00%</td><td>N/A</td><td>N/A</td><td>-100.00% (n=0)</td><td>1.00 (n=0)</td></tr><tr><td><b><font color=\"#ee0b40\">remove_head_coach</font></b></td><td>Negative</td><td>10.85%</td><td>0.00%</td><td>N/A</td><td>N/A</td><td>-100.00% (n=0)</td><td>1.00 (n=0)</td></tr><tr><td><b><font color=\"#0099ff\">general_not_noun</font></b></td><td>Positive</td><td>100.00%</td><td>18.22%</td><td>81.25% (n=48)</td><td>0.16 (n=20)</td><td>N/A</td><td>N/A</td></tr></table>"
      ],
      "text/plain": [
       "OrderedDict([('<b><font color=\"#c700ff\">another_name_between</font></b>',\n",
       "              ['Both',\n",
       "               '100.00%',\n",
       "               '20.35%',\n",
       "               '75.47% (n=53)',\n",
       "               '0.16 (n=22)',\n",
       "               '83.33% (n=6)',\n",
       "               '0.08 (n=4)']),\n",
       "             ('<b><font color=\"#ee0b40\">general_too_faraway</font></b>',\n",
       "              ['Negative',\n",
       "               '6.59%',\n",
       "               '6.59%',\n",
       "               'N/A',\n",
       "               'N/A',\n",
       "               '50.00% (n=6)',\n",
       "               '0.17 (n=3)']),\n",
       "             ('<b><font color=\"#ee0b40\">general_pre_limit</font></b>',\n",
       "              ['Negative',\n",
       "               '15.12%',\n",
       "               '0.00%',\n",
       "               'N/A',\n",
       "               'N/A',\n",
       "               '-100.00% (n=0)',\n",
       "               '1.00 (n=0)']),\n",
       "             ('<b><font color=\"#ee0b40\">has_key_word</font></b>',\n",
       "              ['Negative',\n",
       "               '77.13%',\n",
       "               '0.00%',\n",
       "               'N/A',\n",
       "               'N/A',\n",
       "               '-100.00% (n=0)',\n",
       "               '1.00 (n=0)']),\n",
       "             ('<b><font color=\"#ee0b40\">remove_head_coach</font></b>',\n",
       "              ['Negative',\n",
       "               '10.85%',\n",
       "               '0.00%',\n",
       "               'N/A',\n",
       "               'N/A',\n",
       "               '-100.00% (n=0)',\n",
       "               '1.00 (n=0)']),\n",
       "             ('<b><font color=\"#0099ff\">general_not_noun</font></b>',\n",
       "              ['Positive',\n",
       "               '100.00%',\n",
       "               '18.22%',\n",
       "               '81.25% (n=48)',\n",
       "               '0.16 (n=20)',\n",
       "               'N/A',\n",
       "               'N/A'])])"
      ]
     },
     "execution_count": 152,
     "metadata": {},
     "output_type": "execute_result"
    }
   ],
   "source": [
    "DDL.lf_summary_table()"
   ]
  },
  {
   "cell_type": "markdown",
   "metadata": {},
   "source": [
    "Since our development set is small, we can't evaluate LF performance particularly well. If we observe LFs with very low accuracy, poor generalization, and a sufficiently large sample size, this could be an indication that the LF is buggy."
   ]
  },
  {
   "cell_type": "code",
   "execution_count": 153,
   "metadata": {
    "collapsed": false
   },
   "outputs": [
    {
     "data": {
      "text/plain": [
       "0.84705882352941175"
      ]
     },
     "execution_count": 153,
     "metadata": {},
     "output_type": "execute_result"
    }
   ],
   "source": [
    "DDL.get_classification_accuracy()"
   ]
  },
  {
   "cell_type": "code",
   "execution_count": 154,
   "metadata": {
    "collapsed": false
   },
   "outputs": [
    {
     "data": {
      "text/html": [
       "<table><tr><td><b>ID</b></td><td><b># LFs</b></td><td><b>Test set size</b></td><td><b>Use LFs</b></td><td><b>Model</b></td><td><b>Precision</b></td><td><b>Recall</b></td><td><b>F1</b></td></tr><tr><td>0</td><td>6</td><td>31</td><td>True</td><td>Joint</td><td>0.750</td><td>0.947</td><td>0.837</td></tr><tr><td>1</td><td>6</td><td>43</td><td>True</td><td>Joint</td><td>0.857</td><td>0.889</td><td>0.873</td></tr><tr><td>2</td><td>6</td><td>59</td><td>True</td><td>Joint</td><td>0.875</td><td>0.897</td><td>0.886</td></tr><tr><td>3</td><td>6</td><td>60</td><td>True</td><td>Joint</td><td>0.889</td><td>0.952</td><td>0.920</td></tr><tr><td>4</td><td>6</td><td>60</td><td>True</td><td>Joint</td><td>0.929</td><td>0.929</td><td>0.929</td></tr><tr><td>5</td><td>6</td><td>60</td><td>True</td><td>Joint</td><td>0.000</td><td>0.000</td><td>0.000</td></tr><tr><td>6</td><td>6</td><td>60</td><td>True</td><td>Joint</td><td>0.000</td><td>0.000</td><td>0.000</td></tr><tr><td>7</td><td>6</td><td>60</td><td>True</td><td>Joint</td><td>0.860</td><td>0.925</td><td>0.892</td></tr></table>"
      ],
      "text/plain": [
       "<ddlite.ModelLogger instance at 0x1096ea170>"
      ]
     },
     "execution_count": 154,
     "metadata": {},
     "output_type": "execute_result"
    }
   ],
   "source": [
    "DDL.show_log()"
   ]
  },
  {
   "cell_type": "markdown",
   "metadata": {},
   "source": [
    "After we train the model, except ground trueth we can sample some candidates from MindTagger to see whether their probability is high or low, which help us judge whether the outcome is good or not."
   ]
  },
  {
   "cell_type": "code",
   "execution_count": 122,
   "metadata": {
    "collapsed": false,
    "scrolled": true
   },
   "outputs": [
    {
     "name": "stdout",
     "output_type": "stream",
     "text": [
      "Making sure MindTagger is installed. Hang on!\n"
     ]
    },
    {
     "data": {
      "text/html": [
       "\n",
       "        <iframe\n",
       "            width=\"100%\"\n",
       "            height=\"3600\"\n",
       "            src=\"http://Jiaweis-MacBook-Pro.local:8197/#/mindtagger/2bd452b9ec7a3968\"\n",
       "            frameborder=\"0\"\n",
       "            allowfullscreen\n",
       "        ></iframe>\n",
       "        "
      ],
      "text/plain": [
       "<IPython.lib.display.IFrame at 0x10b66d210>"
      ]
     },
     "execution_count": 122,
     "metadata": {},
     "output_type": "execute_result"
    }
   ],
   "source": [
    "DDL.open_mindtagger(width='100%', height=3600)"
   ]
  },
  {
   "cell_type": "code",
   "execution_count": 123,
   "metadata": {
    "collapsed": false
   },
   "outputs": [],
   "source": [
    "predicted = DDL.get_predicted_probability()"
   ]
  },
  {
   "cell_type": "markdown",
   "metadata": {},
   "source": [
    "Another way to find some useful labeling function is to look at wrong predictions in validation. So here I extract the candidates which predict wrong."
   ]
  },
  {
   "cell_type": "code",
   "execution_count": 125,
   "metadata": {
    "collapsed": false
   },
   "outputs": [
    {
     "data": {
      "text/plain": [
       "[u'With Yahoo! Fantasy playoffs in full swing , here are four waiver-wire players who look ready to contribute this weekend : Toney Douglas , New Orleans -LRB- 24 percent owned -RRB- The veteran point guard continues to rack up stats for the Pelicans with {{Name}} -LRB- {{Injury part}} -RRB- sidelined .',\n",
       " u\"{{Name}} says he was momentarily `` shocked '' when he felt someone grasping at his {{Injury part}} as he stood near the top of the key in the final minute of the New York Kicks ' game against the New Orleans Pelicans on Monday night .\",\n",
       " u'The Clippers had a 2-0 lead over the Trail Blazers , after all , and even after losing Game 3 had reason to feel good with {{Name}} at starring and Blake Griffin showing signs of regaining his rhythm after missing 47 games since Christmas -LRB- hand , {{Injury part}} injuries and team-mandated suspension -RRB- .',\n",
       " u'The Minnesota Timberwolves have announced {{Name}} has been relieved of his interim head coaching duties , effective immediately , and the team will initiate a search for both a new head coach and a new {{Injury part}} of basketball operations .',\n",
       " u'Indiana Pacers starting center {{Name}} was limited to non-contact drills at practice Monday because of a lingering lower {{Injury part}} injury .',\n",
       " u'{{Name}} -LRB- {{Injury part}} -RRB- will play after missing the last three games .',\n",
       " u'The Clippers had a 2-0 lead over the Trail Blazers , after all , and even after losing Game 3 had reason to feel good with {{Name}} at starring and Blake Griffin showing signs of regaining his rhythm after missing 47 games since Christmas -LRB- hand , {{Injury part}} injuries and team-mandated suspension -RRB- .',\n",
       " u'The Clippers had a 2-0 lead over the Trail Blazers , after all , and even after losing Game 3 had reason to feel good with Chris Paul at starring and {{Name}} showing signs of regaining his rhythm after missing 47 games since Christmas -LRB- {{Injury part}} , leg injuries and team-mandated suspension -RRB- .',\n",
       " u'GameTime : The Return of Steve Kerr Warriors {{Injury part}} coach {{Name}} speaks pregame before returning to the bench for the first time this season .',\n",
       " u'Jimmy Butler -LRB- {{Injury part}} -RRB- , Nikola Mirotic -LRB- appendicitis -RRB- and Joakim Noah -LRB- shoulder -RRB- have missed significant time and are still out of the lineup , while {{Name}} -LRB- hamstring -RRB- has missed games but is back on the court .',\n",
       " u\"Starting point guard {{Name}} has missed the last two games with a sore right foot , Zach Randolph has been out with a sore right {{Injury part}} in those games , and Chris Andersen -- Gasol 's replacement , has been out since dislocating his left shoulder last Sunday .\"]"
      ]
     },
     "execution_count": 125,
     "metadata": {},
     "output_type": "execute_result"
    }
   ],
   "source": [
    "low_gt=[]\n",
    "high_gt=[]\n",
    "conflict_gt=[]\n",
    "i=0\n",
    "for x in gt[0]:\n",
    "    if predicted[x]>0.5 and gt[1][i]==-1: conflict_gt.append(x)\n",
    "    elif predicted[x]<=0.5 and gt[1][i]==1: conflict_gt.append(x)\n",
    "    i=i+1\n",
    "R_conflict_gt = [R[i].tagged_sent for i in conflict_gt]\n",
    "R_conflict_gt"
   ]
  },
  {
   "cell_type": "markdown",
   "metadata": {},
   "source": [
    "Now I only keep the candidates with probability larger than 0.8 to construct the knowledge base."
   ]
  },
  {
   "cell_type": "code",
   "execution_count": 30,
   "metadata": {
    "collapsed": false
   },
   "outputs": [],
   "source": [
    "R_high = filter(lambda x: predicted[x.id]>0.8,R)"
   ]
  },
  {
   "cell_type": "markdown",
   "metadata": {},
   "source": [
    "## Add additional information for each Relation\n",
    "\n",
    "With the candidates we learned from news, it worthwhile to dig more information from them, such as news date and keyword."
   ]
  },
  {
   "cell_type": "code",
   "execution_count": 43,
   "metadata": {
    "collapsed": true
   },
   "outputs": [],
   "source": [
    "# extract mention by their label(injury or name)\n",
    "def get_mention_by_label(r,label): return ' '.join(r.mention1()) if r.e1_label == label else ' '.join(r.mention2())"
   ]
  },
  {
   "cell_type": "code",
   "execution_count": 44,
   "metadata": {
    "collapsed": false
   },
   "outputs": [
    {
     "name": "stdout",
     "output_type": "stream",
     "text": [
      "432\n",
      "561\n"
     ]
    }
   ],
   "source": [
    "# read news urls and extract date from them\n",
    "f1 = open('data/urls_1.txt','r+')\n",
    "f2 = open('data/urls_2.txt','r+')\n",
    "temp1 = f1.read().splitlines()\n",
    "temp2 = f2.read().splitlines()\n",
    "temp2 = list(map(lambda x: x[0:19]+x[20:],temp2))\n",
    "url_filtered = temp1 + [x for x in temp2 if x not in temp1]\n",
    "print len(temp1)\n",
    "print len(url_filtered)\n",
    "\n",
    "date = map(lambda x: x[29:34],url_filtered)"
   ]
  },
  {
   "cell_type": "code",
   "execution_count": 45,
   "metadata": {
    "collapsed": true
   },
   "outputs": [],
   "source": [
    "def get_key_word(r): \n",
    "    for x in key_word:\n",
    "        if x in r.lemmas:\n",
    "            return x\n",
    "    return ''\n"
   ]
  },
  {
   "cell_type": "markdown",
   "metadata": {},
   "source": [
    "### Saving information in dictionary"
   ]
  },
  {
   "cell_type": "code",
   "execution_count": 47,
   "metadata": {
    "collapsed": false
   },
   "outputs": [],
   "source": [
    "\n",
    "R_dict = {}\n",
    "\n",
    "for r in R_high:\n",
    "    name  = get_mention_by_label(r,'Name')\n",
    "    if R_dict.has_key(name):\n",
    "        R_dict[name].append({'Injury Part': get_mention_by_label(r,'Injury Part'), 'News Date': date[r.id], 'Keyword': get_key_word(r)})\n",
    "    else:\n",
    "        R_dict[name]=[{'Injury Part': get_mention_by_label(r,'Injury Part'), 'News Date': date[r.id], 'Keyword': get_key_word(r)}]\n",
    "        \n",
    "    "
   ]
  },
  {
   "cell_type": "code",
   "execution_count": null,
   "metadata": {
    "collapsed": true
   },
   "outputs": [],
   "source": [
    "for key in R_dict.keys():\n",
    "    "
   ]
  },
  {
   "cell_type": "code",
   "execution_count": 155,
   "metadata": {
    "collapsed": false,
    "scrolled": true
   },
   "outputs": [
    {
     "data": {
      "image/png": "[encoded data removed]",
      "text/plain": [
       "<matplotlib.figure.Figure at 0x10ac63e90>"
      ]
     },
     "metadata": {},
     "output_type": "display_data"
    }
   ],
   "source": [
    "DDL.plot_calibration()"
   ]
  },
  {
   "cell_type": "code",
   "execution_count": null,
   "metadata": {
    "collapsed": true
   },
   "outputs": [],
   "source": []
  }
 ],
 "metadata": {
  "kernelspec": {
   "display_name": "Python 2",
   "language": "python",
   "name": "python2"
  },
  "language_info": {
   "codemirror_mode": {
    "name": "ipython",
    "version": 2
   },
   "file_extension": ".py",
   "mimetype": "text/x-python",
   "name": "python",
   "nbconvert_exporter": "python",
   "pygments_lexer": "ipython2",
   "version": "2.7.11"
  }
 },
 "nbformat": 4,
 "nbformat_minor": 0
}
